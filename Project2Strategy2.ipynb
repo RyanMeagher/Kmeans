{
 "cells": [
  {
   "cell_type": "code",
   "execution_count": 2,
   "metadata": {},
   "outputs": [
    {
     "ename": "ModuleNotFoundError",
     "evalue": "No module named 'Precode2'",
     "output_type": "error",
     "traceback": [
      "\u001b[0;31m---------------------------------------------------------------------------\u001b[0m",
      "\u001b[0;31mModuleNotFoundError\u001b[0m                       Traceback (most recent call last)",
      "\u001b[0;32m<ipython-input-2-ca50085f6f72>\u001b[0m in \u001b[0;36m<module>\u001b[0;34m\u001b[0m\n\u001b[0;32m----> 1\u001b[0;31m \u001b[0;32mfrom\u001b[0m \u001b[0mPrecode2\u001b[0m \u001b[0;32mimport\u001b[0m \u001b[0;34m*\u001b[0m\u001b[0;34m\u001b[0m\u001b[0;34m\u001b[0m\u001b[0m\n\u001b[0m\u001b[1;32m      2\u001b[0m \u001b[0;32mimport\u001b[0m \u001b[0mnumpy\u001b[0m\u001b[0;34m\u001b[0m\u001b[0;34m\u001b[0m\u001b[0m\n\u001b[1;32m      3\u001b[0m \u001b[0mdata\u001b[0m \u001b[0;34m=\u001b[0m \u001b[0mnp\u001b[0m\u001b[0;34m.\u001b[0m\u001b[0mload\u001b[0m\u001b[0;34m(\u001b[0m\u001b[0;34m'AllSamples.npy'\u001b[0m\u001b[0;34m)\u001b[0m\u001b[0;34m\u001b[0m\u001b[0;34m\u001b[0m\u001b[0m\n",
      "\u001b[0;31mModuleNotFoundError\u001b[0m: No module named 'Precode2'"
     ]
    }
   ],
   "source": [
    "from Precode2 import *\n",
    "import numpy\n",
    "data = np.load('AllSamples.npy')"
   ]
  },
  {
   "cell_type": "code",
   "execution_count": 7,
   "metadata": {},
   "outputs": [
    {
     "name": "stdout",
     "output_type": "stream",
     "text": [
      "Strategy 2: k and initial points\n"
     ]
    }
   ],
   "source": [
    "k1,i_point1,k2,i_point2 = initial_S2('1679') # please replace 0111 with your last four digit of your ID"
   ]
  },
  {
   "cell_type": "code",
   "execution_count": null,
   "metadata": {},
   "outputs": [],
   "source": [
    "import numpy as np\n",
    "k1,i_point1,k2,i_point2 = (4,np.array([ 6.60277235, 6.31081582]), 6,np.array([7.44472802,2.41849318]))\n",
    "print(k1)\n",
    "print(i_point1)\n",
    "print(k2)\n",
    "print(i_point2)"
   ]
  },
  {
   "cell_type": "code",
   "execution_count": 9,
   "metadata": {},
   "outputs": [
    {
     "ename": "NameError",
     "evalue": "name 'data' is not defined",
     "output_type": "error",
     "traceback": [
      "\u001b[0;31m---------------------------------------------------------------------------\u001b[0m",
      "\u001b[0;31mNameError\u001b[0m                                 Traceback (most recent call last)",
      "\u001b[0;32m<ipython-input-9-9887bcbd4e7b>\u001b[0m in \u001b[0;36m<module>\u001b[0;34m\u001b[0m\n\u001b[1;32m     13\u001b[0m     \u001b[0;32mreturn\u001b[0m \u001b[0marr\u001b[0m\u001b[0;34m\u001b[0m\u001b[0;34m\u001b[0m\u001b[0m\n\u001b[1;32m     14\u001b[0m \u001b[0;34m\u001b[0m\u001b[0m\n\u001b[0;32m---> 15\u001b[0;31m \u001b[0mdata1\u001b[0m\u001b[0;34m=\u001b[0m\u001b[0mremoveCenter\u001b[0m\u001b[0;34m(\u001b[0m\u001b[0mdata\u001b[0m\u001b[0;34m,\u001b[0m\u001b[0mi_point1\u001b[0m\u001b[0;34m)\u001b[0m\u001b[0;34m\u001b[0m\u001b[0;34m\u001b[0m\u001b[0m\n\u001b[0m\u001b[1;32m     16\u001b[0m \u001b[0;34m\u001b[0m\u001b[0m\n\u001b[1;32m     17\u001b[0m \u001b[0;34m\u001b[0m\u001b[0m\n",
      "\u001b[0;31mNameError\u001b[0m: name 'data' is not defined"
     ]
    }
   ],
   "source": [
    "def removeCenter(data,centroid):\n",
    "\n",
    "    center_bool=[np.array_equal(data[i],centroid) for i in range(data.shape[0])]\n",
    "    data_idx=[not i for i in center_bool]  \n",
    "    \n",
    "    init=0\n",
    "    for x1,x2 in zip(data_idx,data):\n",
    "        if x1 and init:\n",
    "            arr=np.vstack((arr,x2))\n",
    "        if x1 and not init:\n",
    "            init+=1\n",
    "            arr=np.array(x2)\n",
    "    return arr\n",
    "\n",
    "data1=removeCenter(data,i_point1)\n",
    "            \n",
    "\n"
   ]
  },
  {
   "cell_type": "code",
   "execution_count": 10,
   "metadata": {},
   "outputs": [
    {
     "ename": "AttributeError",
     "evalue": "'list' object has no attribute 'reshape'",
     "output_type": "error",
     "traceback": [
      "\u001b[0;31m---------------------------------------------------------------------------\u001b[0m",
      "\u001b[0;31mAttributeError\u001b[0m                            Traceback (most recent call last)",
      "\u001b[0;32m<ipython-input-10-91e8c9c7aa79>\u001b[0m in \u001b[0;36m<module>\u001b[0;34m\u001b[0m\n\u001b[0;32m----> 1\u001b[0;31m \u001b[0mi_point1\u001b[0m\u001b[0;34m=\u001b[0m\u001b[0mi_point1\u001b[0m\u001b[0;34m.\u001b[0m\u001b[0mreshape\u001b[0m\u001b[0;34m(\u001b[0m\u001b[0;34m-\u001b[0m\u001b[0;36m1\u001b[0m\u001b[0;34m,\u001b[0m\u001b[0;36m2\u001b[0m\u001b[0;34m)\u001b[0m\u001b[0;34m\u001b[0m\u001b[0;34m\u001b[0m\u001b[0m\n\u001b[0m\u001b[1;32m      2\u001b[0m \u001b[0;34m\u001b[0m\u001b[0m\n\u001b[1;32m      3\u001b[0m \u001b[0mi_point2\u001b[0m\u001b[0;34m=\u001b[0m\u001b[0mi_point2\u001b[0m\u001b[0;34m.\u001b[0m\u001b[0mreshape\u001b[0m\u001b[0;34m(\u001b[0m\u001b[0;34m-\u001b[0m\u001b[0;36m1\u001b[0m\u001b[0;34m,\u001b[0m\u001b[0;36m2\u001b[0m\u001b[0;34m)\u001b[0m\u001b[0;34m\u001b[0m\u001b[0;34m\u001b[0m\u001b[0m\n\u001b[1;32m      4\u001b[0m \u001b[0;34m\u001b[0m\u001b[0m\n",
      "\u001b[0;31mAttributeError\u001b[0m: 'list' object has no attribute 'reshape'"
     ]
    }
   ],
   "source": [
    "i_point1=i_point1.reshape(-1,2)\n",
    "\n",
    "i_point2=i_point2.reshape(-1,2)\n",
    "    "
   ]
  },
  {
   "cell_type": "code",
   "execution_count": 11,
   "metadata": {},
   "outputs": [],
   "source": [
    "def furthestPoint(data, centroid):  # p1 is full data, while p1 is centroids.\n",
    "\n",
    "    maxdist = 0\n",
    "    p = np.empty((1, 2))\n",
    "\n",
    "    for p1 in data:\n",
    "        avgDist = 0\n",
    "        num_centroids = 0\n",
    "\n",
    "        for p2 in centroid:\n",
    "\n",
    "            num_centroids += 1\n",
    "            x1, y1, x2, y2 = p1[0], p1[1], p2[0], p2[1]\n",
    "            dist = ((x1 - x2) ** 2 + (y1 - y2) ** 2) ** (1 / 2)\n",
    "            avgDist += dist\n",
    "\n",
    "        avgDist = avgDist / num_centroids\n",
    "\n",
    "        if avgDist > maxdist:\n",
    "            maxdist = avgDist\n",
    "            p=p1\n",
    "\n",
    "\n",
    "    return maxdist, p\n"
   ]
  },
  {
   "cell_type": "code",
   "execution_count": 12,
   "metadata": {},
   "outputs": [],
   "source": [
    "def findK(data,initial_centroid,k):\n",
    "    centroids=initial_centroid\n",
    "    \n",
    "    for _ in range(k-1):\n",
    "        data=removeCenter(data,centroids[-1,:])\n",
    "        maxdist, p= furthestPoint(data, centroids)\n",
    "        centroids=np.vstack((centroids,p))\n",
    "    return data, centroids\n",
    "\n",
    "data1, centroids1=findK(data,i_point1,k1)\n",
    "data2, centroids2=findK(data,i_point2,k2)\n",
    "            "
   ]
  },
  {
   "cell_type": "code",
   "execution_count": 13,
   "metadata": {},
   "outputs": [
    {
     "data": {
      "text/plain": [
       "array([[ 6.60277235,  6.31081582],\n",
       "       [ 3.85212146, -1.08715226],\n",
       "       [ 9.26998864,  9.62492869],\n",
       "       [ 1.20162248,  7.68639714]])"
      ]
     },
     "execution_count": 13,
     "metadata": {},
     "output_type": "execute_result"
    }
   ],
   "source": [
    "centroids1"
   ]
  },
  {
   "cell_type": "code",
   "execution_count": 14,
   "metadata": {},
   "outputs": [
    {
     "data": {
      "text/plain": [
       "array([[ 7.44472802,  2.41849318],\n",
       "       [ 2.95297924,  9.65073899],\n",
       "       [ 3.85212146, -1.08715226],\n",
       "       [ 9.26998864,  9.62492869],\n",
       "       [ 1.05217427,  3.88943741],\n",
       "       [ 8.87578072,  8.96092361]])"
      ]
     },
     "execution_count": 14,
     "metadata": {},
     "output_type": "execute_result"
    }
   ],
   "source": [
    "centroids2"
   ]
  },
  {
   "cell_type": "code",
   "execution_count": 15,
   "metadata": {},
   "outputs": [],
   "source": [
    "import pandas as pd\n",
    "def ClosestPoints(data,centroid):   # p1 is full data, while p1 is centroids.\n",
    "    d={}\n",
    "    data_idx=0\n",
    "\n",
    "    for p1 in data:\n",
    "        closest_centroid=0\n",
    "        dmin=float(\"inf\")\n",
    "        d[data_idx]=0\n",
    "\n",
    "        for p2 in centroid:\n",
    "            x1,y1,x2,y2= p1[0],p1[1],p2[0],p2[1]\n",
    "            dist = ( (x1-x2)**2 + (y1 - y2)**2 ) **(1/2)\n",
    "            \n",
    "            if dist<dmin:\n",
    "                dmin=dist\n",
    "                d[data_idx]=[closest_centroid,p1[0],p1[1],dist**2]\n",
    "\n",
    "            closest_centroid+=1\n",
    "\n",
    "        data_idx+=1\n",
    "    return d\n",
    "\n",
    "\n",
    "def NewCentroids(d):\n",
    "\n",
    "    \n",
    "    df=pd.DataFrame(np.array( tuple(d.values()) ))\n",
    "    intra_cluster=df.iloc[:,[0,3]].groupby(0).sum()\n",
    "    intra_cluster=np.sum(intra_cluster,axis=0)\n",
    "    intra_cluster=np.array(intra_cluster)\n",
    "    \n",
    "    new_centroids=df.iloc[:,[0,1,2]].groupby(0).mean()\n",
    "   \n",
    "    return intra_cluster[0] , np.array(new_centroids)\n",
    "\n",
    "\n",
    "\n",
    "\n",
    "def RunKmeans(data,centroids, epochs):\n",
    "    passes=0\n",
    "    \n",
    "    while passes<epochs:\n",
    "        err, centroids=NewCentroids(ClosestPoints(data,centroids))\n",
    "        #print(centroids)\n",
    "        #print(err)\n",
    "        \n",
    "        \n",
    "        passes+=1\n",
    "    return centroids , err"
   ]
  },
  {
   "cell_type": "code",
   "execution_count": 18,
   "metadata": {},
   "outputs": [
    {
     "data": {
      "text/plain": [
       "(array([[ 6.79532432,  2.78778512],\n",
       "        [ 2.85235149,  2.28186483],\n",
       "        [ 6.92822285,  7.92187152],\n",
       "        [ 3.19669343,  6.8712608 ]]), 803.21672380575683)"
      ]
     },
     "execution_count": 18,
     "metadata": {},
     "output_type": "execute_result"
    }
   ],
   "source": [
    "RunKmeans(data,centroids1,100)"
   ]
  },
  {
   "cell_type": "code",
   "execution_count": 19,
   "metadata": {},
   "outputs": [
    {
     "data": {
      "text/plain": [
       "(array([[ 7.41419243,  2.32169114],\n",
       "        [ 2.56333815,  6.9782248 ],\n",
       "        [ 3.14506148,  0.90770655],\n",
       "        [ 7.75648325,  8.55668928],\n",
       "        [ 3.49556658,  3.56611232],\n",
       "        [ 5.46427736,  6.83771354]]), 476.11875167635293)"
      ]
     },
     "execution_count": 19,
     "metadata": {},
     "output_type": "execute_result"
    }
   ],
   "source": [
    "RunKmeans(data,centroids2,100)"
   ]
  },
  {
   "cell_type": "code",
   "execution_count": 40,
   "metadata": {},
   "outputs": [],
   "source": [
    "def RandomCentroids(data,k):\n",
    "    idx=np.arange(data.shape[0])\n",
    "    np.random.seed(300)\n",
    "    np.random.shuffle(idx)\n",
    "    point_idx=idx[:k]\n",
    "    return data[point_idx,:]"
   ]
  },
  {
   "cell_type": "code",
   "execution_count": 41,
   "metadata": {},
   "outputs": [
    {
     "data": {
      "text/plain": [
       "array([[ 4.9511002 ,  8.08344216]])"
      ]
     },
     "execution_count": 41,
     "metadata": {},
     "output_type": "execute_result"
    }
   ],
   "source": [
    "RandomCentroids(data,1)"
   ]
  },
  {
   "cell_type": "code",
   "execution_count": 42,
   "metadata": {},
   "outputs": [
    {
     "data": {
      "text/plain": [
       "[1921.033485856206,\n",
       " 1293.7774523911348,\n",
       " 803.21672380575683,\n",
       " 613.98662860666298,\n",
       " 469.10726238414708,\n",
       " 368.96063375731143,\n",
       " 290.92433447443756,\n",
       " 273.57309878877174,\n",
       " 275.19842718008664]"
      ]
     },
     "execution_count": 42,
     "metadata": {},
     "output_type": "execute_result"
    }
   ],
   "source": [
    "err_plot=[]\n",
    "for k in range(2,11):\n",
    "    data1, initial_centroids=findK(data,i_point1,k)\n",
    "    final_centroids, err = RunKmeans(data,initial_centroids,100)\n",
    "    err_plot.append(err)\n",
    "\n",
    "err_plot"
   ]
  },
  {
   "cell_type": "code",
   "execution_count": 44,
   "metadata": {},
   "outputs": [
    {
     "data": {
      "text/plain": [
       "Text(0.5,1,'K means error using different K values part 2')"
      ]
     },
     "execution_count": 44,
     "metadata": {},
     "output_type": "execute_result"
    },
    {
     "data": {
      "image/png": "[encoded data removed]",
      "text/plain": [
       "<Figure size 432x288 with 1 Axes>"
      ]
     },
     "metadata": {},
     "output_type": "display_data"
    }
   ],
   "source": [
    "%matplotlib inline\n",
    "import matplotlib.pyplot as plt\n",
    "plt.plot(list(range(2,11)),err_plot)\n",
    "plt.xlabel(\"k\")\n",
    "plt.ylabel(\"error\")\n",
    "plt.title(\"K means error using different K values part 2\")"
   ]
  },
  {
   "cell_type": "code",
   "execution_count": null,
   "metadata": {},
   "outputs": [],
   "source": []
  }
 ],
 "metadata": {
  "kernelspec": {
   "display_name": "Python 3",
   "language": "python",
   "name": "python3"
  },
  "language_info": {
   "codemirror_mode": {
    "name": "ipython",
    "version": 3
   },
   "file_extension": ".py",
   "mimetype": "text/x-python",
   "name": "python",
   "nbconvert_exporter": "python",
   "pygments_lexer": "ipython3",
   "version": "3.7.5"
  }
 },
 "nbformat": 4,
 "nbformat_minor": 2
}
